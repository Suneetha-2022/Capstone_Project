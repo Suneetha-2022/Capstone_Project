{
 "cells": [
  {
   "cell_type": "code",
   "execution_count": 1,
   "metadata": {},
   "outputs": [],
   "source": [
    "import requests\n",
    "import findspark\n",
    "import pandas as pd\n",
    "import numpy as np\n",
    "findspark.init()\n",
    "from pyspark.sql import SparkSession\n",
    "from pyspark.sql.functions import*\n",
    "from pyspark.sql.types import StructType, StructField, StringType, IntegerType, BooleanType, DoubleType\n",
    "from pyspark import SparkContext\n",
    "from pyspark.sql.functions import monotonically_increasing_id"
   ]
  },
  {
   "cell_type": "code",
   "execution_count": 2,
   "metadata": {},
   "outputs": [],
   "source": [
    "spark = SparkSession.builder.appName(\"Branch_App\").getOrCreate()"
   ]
  },
  {
   "cell_type": "code",
   "execution_count": 3,
   "metadata": {},
   "outputs": [],
   "source": [
    "df_branch = spark.read.json(r'C:\\suneetha\\Python_labs\\Capstone_project\\CreditCard_dataset\\cdw_sapp_branch.json')"
   ]
  },
  {
   "cell_type": "code",
   "execution_count": 4,
   "metadata": {},
   "outputs": [
    {
     "name": "stdout",
     "output_type": "stream",
     "text": [
      "root\n",
      " |-- BRANCH_CITY: string (nullable = true)\n",
      " |-- BRANCH_CODE: long (nullable = true)\n",
      " |-- BRANCH_NAME: string (nullable = true)\n",
      " |-- BRANCH_PHONE: string (nullable = true)\n",
      " |-- BRANCH_STATE: string (nullable = true)\n",
      " |-- BRANCH_STREET: string (nullable = true)\n",
      " |-- BRANCH_ZIP: long (nullable = true)\n",
      " |-- LAST_UPDATED: string (nullable = true)\n",
      "\n"
     ]
    }
   ],
   "source": [
    "df_branch.printSchema()"
   ]
  },
  {
   "cell_type": "code",
   "execution_count": 5,
   "metadata": {},
   "outputs": [
    {
     "name": "stdout",
     "output_type": "stream",
     "text": [
      "+----------+\n",
      "|BRANCH_ZIP|\n",
      "+----------+\n",
      "|     55044|\n",
      "|     60142|\n",
      "|     11419|\n",
      "|     32068|\n",
      "|     19406|\n",
      "|      7501|\n",
      "|     14534|\n",
      "|      6109|\n",
      "|     44070|\n",
      "|      8844|\n",
      "|     48071|\n",
      "|     32765|\n",
      "|     17050|\n",
      "|     11803|\n",
      "|     42001|\n",
      "|     19438|\n",
      "|     20901|\n",
      "|     55337|\n",
      "|     98444|\n",
      "|     17013|\n",
      "+----------+\n",
      "only showing top 20 rows\n",
      "\n"
     ]
    }
   ],
   "source": [
    "#Replace null values in 'BRANCH_ZIP' with '999999'\n",
    "df_branch = df_branch.fillna({'BRANCH_ZIP': '999999'})\n",
    "df_branch.select('BRANCH_ZIP').show()"
   ]
  },
  {
   "cell_type": "code",
   "execution_count": 6,
   "metadata": {},
   "outputs": [
    {
     "name": "stdout",
     "output_type": "stream",
     "text": [
      "+-----------------+-----------+------------+------------+------------+-------------------+----------+--------------------+\n",
      "|      BRANCH_CITY|BRANCH_CODE| BRANCH_NAME|BRANCH_PHONE|BRANCH_STATE|      BRANCH_STREET|BRANCH_ZIP|        LAST_UPDATED|\n",
      "+-----------------+-----------+------------+------------+------------+-------------------+----------+--------------------+\n",
      "|        Lakeville|          1|Example Bank|(610)123-456|          MN|       Bridle Court|     55044|2018-04-18T16:51:...|\n",
      "|          Huntley|          2|Example Bank|(610)123-461|          IL|  Washington Street|     60142|2018-04-18T16:51:...|\n",
      "|SouthRichmondHill|          3|Example Bank|(610)123-498|          NY|      Warren Street|     11419|2018-04-18T16:51:...|\n",
      "|       Middleburg|          4|Example Bank|(610)123-466|          FL|   Cleveland Street|     32068|2018-04-18T16:51:...|\n",
      "|    KingOfPrussia|          5|Example Bank|(610)123-484|          PA|        14th Street|     19406|2018-04-18T16:51:...|\n",
      "|         Paterson|          7|Example Bank|(610)123-414|          NJ|   Jefferson Street|      7501|2018-04-18T16:51:...|\n",
      "|        Pittsford|          8|Example Bank|(610)123-467|          NY|           B Street|     14534|2018-04-18T16:51:...|\n",
      "|     Wethersfield|          9|Example Bank|(610)123-467|          CT|    Jefferson Court|      6109|2018-04-18T16:51:...|\n",
      "|     NorthOlmsted|         10|Example Bank|(610)123-414|          OH|     Cambridge Road|     44070|2018-04-18T16:51:...|\n",
      "|     Hillsborough|         11|Example Bank|(610)123-436|          NJ|    3rd Street West|      8844|2018-04-18T16:51:...|\n",
      "|   MadisonHeights|         12|Example Bank|(610)123-486|          MI|          Mill Road|     48071|2018-04-18T16:51:...|\n",
      "|           Oviedo|         14|Example Bank|(610)123-493|          FL|  Washington Street|     32765|2018-04-18T16:51:...|\n",
      "|    Mechanicsburg|         15|Example Bank|(610)123-446|          PA|    Chestnut Street|     17050|2018-04-18T16:51:...|\n",
      "|        Plainview|         16|Example Bank|(610)123-485|          NY|       Monroe Drive|     11803|2018-04-18T16:51:...|\n",
      "|          Paducah|         17|Example Bank|(610)123-454|          KY|    Railroad Street|     42001|2018-04-18T16:51:...|\n",
      "|     Harleysville|         18|Example Bank|(610)123-482|          PA|Church Street South|     19438|2018-04-18T16:51:...|\n",
      "|     SilverSpring|         19|Example Bank|(610)123-448|          MD|        King Street|     20901|2018-04-18T16:51:...|\n",
      "|       Burnsville|         20|Example Bank|(610)123-484|          MN|   Canterbury Drive|     55337|2018-04-18T16:51:...|\n",
      "|           Tacoma|         21|Example Bank|(610)123-436|          WA|         2nd Avenue|     98444|2018-04-18T16:51:...|\n",
      "|         Carlisle|         22|Example Bank|(610)123-492|          PA| Front Street South|     17013|2018-04-18T16:51:...|\n",
      "+-----------------+-----------+------------+------------+------------+-------------------+----------+--------------------+\n",
      "only showing top 20 rows\n",
      "\n"
     ]
    }
   ],
   "source": [
    "#Format 'BRANCH_PHONE'\n",
    "df_branch= df_branch.withColumn('BRANCH_PHONE', regexp_replace('BRANCH_PHONE', '^(\\d{3})(\\d{3})(\\d{4})$', '(610)$1-$2'))\n",
    "df_branch.show()"
   ]
  },
  {
   "cell_type": "code",
   "execution_count": 7,
   "metadata": {},
   "outputs": [
    {
     "name": "stdout",
     "output_type": "stream",
     "text": [
      "root\n",
      " |-- BRANCH_CITY: string (nullable = true)\n",
      " |-- BRANCH_CODE: long (nullable = true)\n",
      " |-- BRANCH_NAME: string (nullable = true)\n",
      " |-- BRANCH_PHONE: string (nullable = true)\n",
      " |-- BRANCH_STATE: string (nullable = true)\n",
      " |-- BRANCH_STREET: string (nullable = true)\n",
      " |-- BRANCH_ZIP: long (nullable = true)\n",
      " |-- LAST_UPDATED: string (nullable = true)\n",
      "\n"
     ]
    }
   ],
   "source": [
    "df_branch.printSchema()"
   ]
  },
  {
   "cell_type": "code",
   "execution_count": 8,
   "metadata": {},
   "outputs": [],
   "source": [
    "df_branch.write.format(\"jdbc\") \\\n",
    "  .mode(\"append\") \\\n",
    "  .option(\"url\", \"jdbc:mysql://localhost:3306/classicmodels\") \\\n",
    "  .option(\"dbtable\", \"capstone_project.cdw_sapp_branch\") \\\n",
    "  .option(\"user\", \"root\") \\\n",
    "  .option(\"password\", \"password\") \\\n",
    "  .save()"
   ]
  },
  {
   "cell_type": "code",
   "execution_count": 9,
   "metadata": {},
   "outputs": [],
   "source": [
    "spark.stop()"
   ]
  }
 ],
 "metadata": {
  "kernelspec": {
   "display_name": "cap_env",
   "language": "python",
   "name": "python3"
  },
  "language_info": {
   "codemirror_mode": {
    "name": "ipython",
    "version": 3
   },
   "file_extension": ".py",
   "mimetype": "text/x-python",
   "name": "python",
   "nbconvert_exporter": "python",
   "pygments_lexer": "ipython3",
   "version": "3.10.6"
  },
  "orig_nbformat": 4,
  "vscode": {
   "interpreter": {
    "hash": "d39521430ce9c4668c5d19cadf78519d02a169b59915cbb53f9deca0d11490da"
   }
  }
 },
 "nbformat": 4,
 "nbformat_minor": 2
}
